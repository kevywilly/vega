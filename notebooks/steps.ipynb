{
 "cells": [
  {
   "cell_type": "code",
   "execution_count": 1,
   "metadata": {
    "collapsed": true,
    "ExecuteTime": {
     "end_time": "2024-03-17T02:15:37.583565Z",
     "start_time": "2024-03-17T02:15:37.207356Z"
    }
   },
   "outputs": [],
   "source": [
    "import numpy as np\n",
    "import matplotlib.pyplot as plt"
   ]
  },
  {
   "cell_type": "code",
   "execution_count": 2,
   "outputs": [
    {
     "name": "stdout",
     "output_type": "stream",
     "text": [
      "step_size 10\n",
      "x 54\n",
      "y 54\n",
      "z 54\n"
     ]
    }
   ],
   "source": [
    "z_mag = 50\n",
    "x_mag = 50\n",
    "y_mag = 5\n",
    "\n",
    "num_steps = 54\n",
    "step_size = int(540/num_steps)\n",
    "\n",
    "x_steps = np.sin(np.radians(np.arange(0,180,step_size/2)))*x_mag\n",
    "x_steps2 = np.sin(np.radians(np.arange(180,270,step_size/2)))*x_mag\n",
    "x_steps = np.hstack([x_steps,x_steps2])\n",
    "\n",
    "y_steps = np.full((num_steps), y_mag)\n",
    "\n",
    "z_steps = np.sin(np.radians(np.arange(40,180,int(step_size*.8))))*z_mag\n",
    "z_steps = np.hstack([z_steps,np.zeros(int((180)*2/step_size))])\n",
    "\n",
    "print(\"step_size\", step_size)\n",
    "print(\"x\", x_steps.size)\n",
    "print(\"y\", y_steps.size)\n",
    "print(\"z\", z_steps.size)\n",
    "\n",
    "steps = np.array(([x_steps,y_steps,z_steps]))\n",
    "steps = steps.reshape(-1,num_steps).transpose(1,0).astype(int)\n"
   ],
   "metadata": {
    "collapsed": false,
    "ExecuteTime": {
     "end_time": "2024-03-17T02:15:37.589232Z",
     "start_time": "2024-03-17T02:15:37.586463Z"
    }
   }
  },
  {
   "cell_type": "code",
   "execution_count": 3,
   "outputs": [
    {
     "data": {
      "text/plain": "<Figure size 640x480 with 1 Axes>",
      "image/png": "[encoded data removed]"
     },
     "metadata": {},
     "output_type": "display_data"
    }
   ],
   "source": [
    "plt.plot(x_steps, label = \"X\")\n",
    "plt.plot(z_steps, label = \"Z\")\n",
    "plt.legend()\n",
    "plt.show()"
   ],
   "metadata": {
    "collapsed": false,
    "ExecuteTime": {
     "end_time": "2024-03-17T02:15:37.671160Z",
     "start_time": "2024-03-17T02:15:37.589910Z"
    }
   }
  },
  {
   "cell_type": "code",
   "execution_count": 4,
   "outputs": [],
   "source": [
    "class Trotter:\n",
    "    def __init__(self, mag=(50, 2, 50), num_steps=54):\n",
    "        self.num_steps = num_steps\n",
    "        self.x_mag, self.y_mag, self.z_mag = mag\n",
    "        self.step_size = int(540 / num_steps)\n",
    "        self.steps = self._generate_steps()\n",
    "\n",
    "    def _generate_steps(self):\n",
    "        x_steps = np.sin(np.radians(np.arange(0, 180, self.step_size / 2))) * self.x_mag\n",
    "        x_steps2 = np.sin(np.radians(np.arange(180, 270, self.step_size / 2))) * self.x_mag\n",
    "        x_steps = np.hstack([x_steps, x_steps2])\n",
    "\n",
    "        y_steps = np.full((self.num_steps), self.y_mag)\n",
    "        z_steps = np.sin(np.radians(np.arange(40,180,int(step_size*.8))))*self.z_mag\n",
    "        z_steps = np.hstack([z_steps, np.zeros(int((180) * 2 / self.step_size))])\n",
    "\n",
    "        steps = np.array(([x_steps, y_steps, z_steps]))\n",
    "        return steps.reshape(-1, self.num_steps).transpose(1, 0).astype(int)\n",
    "\n",
    "    def get_step(self, index):\n",
    "        return self.steps[index]\n",
    "\n",
    "    def step_generator(self):\n",
    "        for i in range(self.num_steps):\n",
    "\n",
    "            i2 = i + int(self.num_steps * 2 / 3)\n",
    "            if i2 >= self.num_steps:\n",
    "                i2 = 0\n",
    "\n",
    "            l1_3 = self.get_step(i)\n",
    "            l2_4 = self.get_step(i2)\n",
    "\n",
    "            yield np.array([l1_3, l2_4, l1_3, l2_4])\n",
    "\n"
   ],
   "metadata": {
    "collapsed": false,
    "ExecuteTime": {
     "end_time": "2024-03-17T02:15:37.676969Z",
     "start_time": "2024-03-17T02:15:37.675127Z"
    }
   }
  },
  {
   "cell_type": "code",
   "execution_count": 5,
   "outputs": [
    {
     "name": "stdout",
     "output_type": "stream",
     "text": [
      "[[ 0  2 32]\n",
      " [ 0  2  0]\n",
      " [ 0  2 32]\n",
      " [ 0  2  0]]\n",
      "[[ 4  2 37]\n",
      " [-4  2  0]\n",
      " [ 4  2 37]\n",
      " [-4  2  0]]\n",
      "[[ 8  2 41]\n",
      " [-8  2  0]\n",
      " [ 8  2 41]\n",
      " [-8  2  0]]\n",
      "[[ 12   2  44]\n",
      " [-12   2   0]\n",
      " [ 12   2  44]\n",
      " [-12   2   0]]\n",
      "[[ 17   2  47]\n",
      " [-17   2   0]\n",
      " [ 17   2  47]\n",
      " [-17   2   0]]\n",
      "[[ 21   2  49]\n",
      " [-21   2   0]\n",
      " [ 21   2  49]\n",
      " [-21   2   0]]\n",
      "[[ 24   2  49]\n",
      " [-25   2   0]\n",
      " [ 24   2  49]\n",
      " [-25   2   0]]\n",
      "[[ 28   2  49]\n",
      " [-28   2   0]\n",
      " [ 28   2  49]\n",
      " [-28   2   0]]\n",
      "[[ 32   2  48]\n",
      " [-32   2   0]\n",
      " [ 32   2  48]\n",
      " [-32   2   0]]\n",
      "[[ 35   2  46]\n",
      " [-35   2   0]\n",
      " [ 35   2  46]\n",
      " [-35   2   0]]\n",
      "[[ 38   2  43]\n",
      " [-38   2   0]\n",
      " [ 38   2  43]\n",
      " [-38   2   0]]\n",
      "[[ 40   2  39]\n",
      " [-40   2   0]\n",
      " [ 40   2  39]\n",
      " [-40   2   0]]\n",
      "[[ 43   2  34]\n",
      " [-43   2   0]\n",
      " [ 43   2  34]\n",
      " [-43   2   0]]\n",
      "[[ 45   2  29]\n",
      " [-45   2   0]\n",
      " [ 45   2  29]\n",
      " [-45   2   0]]\n",
      "[[ 46   2  23]\n",
      " [-46   2   0]\n",
      " [ 46   2  23]\n",
      " [-46   2   0]]\n",
      "[[ 48   2  17]\n",
      " [-48   2   0]\n",
      " [ 48   2  17]\n",
      " [-48   2   0]]\n",
      "[[ 49   2  10]\n",
      " [-49   2   0]\n",
      " [ 49   2  10]\n",
      " [-49   2   0]]\n",
      "[[ 49   2   3]\n",
      " [-49   2   0]\n",
      " [ 49   2   3]\n",
      " [-49   2   0]]\n",
      "[[50  2  0]\n",
      " [ 0  2 32]\n",
      " [50  2  0]\n",
      " [ 0  2 32]]\n",
      "[[49  2  0]\n",
      " [ 0  2 32]\n",
      " [49  2  0]\n",
      " [ 0  2 32]]\n",
      "[[49  2  0]\n",
      " [ 0  2 32]\n",
      " [49  2  0]\n",
      " [ 0  2 32]]\n",
      "[[48  2  0]\n",
      " [ 0  2 32]\n",
      " [48  2  0]\n",
      " [ 0  2 32]]\n",
      "[[46  2  0]\n",
      " [ 0  2 32]\n",
      " [46  2  0]\n",
      " [ 0  2 32]]\n",
      "[[45  2  0]\n",
      " [ 0  2 32]\n",
      " [45  2  0]\n",
      " [ 0  2 32]]\n",
      "[[43  2  0]\n",
      " [ 0  2 32]\n",
      " [43  2  0]\n",
      " [ 0  2 32]]\n",
      "[[40  2  0]\n",
      " [ 0  2 32]\n",
      " [40  2  0]\n",
      " [ 0  2 32]]\n",
      "[[38  2  0]\n",
      " [ 0  2 32]\n",
      " [38  2  0]\n",
      " [ 0  2 32]]\n",
      "[[35  2  0]\n",
      " [ 0  2 32]\n",
      " [35  2  0]\n",
      " [ 0  2 32]]\n",
      "[[32  2  0]\n",
      " [ 0  2 32]\n",
      " [32  2  0]\n",
      " [ 0  2 32]]\n",
      "[[28  2  0]\n",
      " [ 0  2 32]\n",
      " [28  2  0]\n",
      " [ 0  2 32]]\n",
      "[[24  2  0]\n",
      " [ 0  2 32]\n",
      " [24  2  0]\n",
      " [ 0  2 32]]\n",
      "[[21  2  0]\n",
      " [ 0  2 32]\n",
      " [21  2  0]\n",
      " [ 0  2 32]]\n",
      "[[17  2  0]\n",
      " [ 0  2 32]\n",
      " [17  2  0]\n",
      " [ 0  2 32]]\n",
      "[[12  2  0]\n",
      " [ 0  2 32]\n",
      " [12  2  0]\n",
      " [ 0  2 32]]\n",
      "[[ 8  2  0]\n",
      " [ 0  2 32]\n",
      " [ 8  2  0]\n",
      " [ 0  2 32]]\n",
      "[[ 4  2  0]\n",
      " [ 0  2 32]\n",
      " [ 4  2  0]\n",
      " [ 0  2 32]]\n",
      "[[ 0  2  0]\n",
      " [ 0  2 32]\n",
      " [ 0  2  0]\n",
      " [ 0  2 32]]\n",
      "[[-4  2  0]\n",
      " [ 0  2 32]\n",
      " [-4  2  0]\n",
      " [ 0  2 32]]\n",
      "[[-8  2  0]\n",
      " [ 0  2 32]\n",
      " [-8  2  0]\n",
      " [ 0  2 32]]\n",
      "[[-12   2   0]\n",
      " [  0   2  32]\n",
      " [-12   2   0]\n",
      " [  0   2  32]]\n",
      "[[-17   2   0]\n",
      " [  0   2  32]\n",
      " [-17   2   0]\n",
      " [  0   2  32]]\n",
      "[[-21   2   0]\n",
      " [  0   2  32]\n",
      " [-21   2   0]\n",
      " [  0   2  32]]\n",
      "[[-25   2   0]\n",
      " [  0   2  32]\n",
      " [-25   2   0]\n",
      " [  0   2  32]]\n",
      "[[-28   2   0]\n",
      " [  0   2  32]\n",
      " [-28   2   0]\n",
      " [  0   2  32]]\n",
      "[[-32   2   0]\n",
      " [  0   2  32]\n",
      " [-32   2   0]\n",
      " [  0   2  32]]\n",
      "[[-35   2   0]\n",
      " [  0   2  32]\n",
      " [-35   2   0]\n",
      " [  0   2  32]]\n",
      "[[-38   2   0]\n",
      " [  0   2  32]\n",
      " [-38   2   0]\n",
      " [  0   2  32]]\n",
      "[[-40   2   0]\n",
      " [  0   2  32]\n",
      " [-40   2   0]\n",
      " [  0   2  32]]\n",
      "[[-43   2   0]\n",
      " [  0   2  32]\n",
      " [-43   2   0]\n",
      " [  0   2  32]]\n",
      "[[-45   2   0]\n",
      " [  0   2  32]\n",
      " [-45   2   0]\n",
      " [  0   2  32]]\n",
      "[[-46   2   0]\n",
      " [  0   2  32]\n",
      " [-46   2   0]\n",
      " [  0   2  32]]\n",
      "[[-48   2   0]\n",
      " [  0   2  32]\n",
      " [-48   2   0]\n",
      " [  0   2  32]]\n",
      "[[-49   2   0]\n",
      " [  0   2  32]\n",
      " [-49   2   0]\n",
      " [  0   2  32]]\n",
      "[[-49   2   0]\n",
      " [  0   2  32]\n",
      " [-49   2   0]\n",
      " [  0   2  32]]\n"
     ]
    }
   ],
   "source": [
    "trotter = Trotter()\n",
    "for x in trotter.step_generator():\n",
    "    print(x)"
   ],
   "metadata": {
    "collapsed": false,
    "ExecuteTime": {
     "end_time": "2024-03-17T02:15:37.684878Z",
     "start_time": "2024-03-17T02:15:37.679356Z"
    }
   }
  },
  {
   "cell_type": "code",
   "execution_count": 5,
   "outputs": [],
   "source": [],
   "metadata": {
    "collapsed": false,
    "ExecuteTime": {
     "end_time": "2024-03-17T02:15:37.687569Z",
     "start_time": "2024-03-17T02:15:37.685531Z"
    }
   }
  },
  {
   "cell_type": "code",
   "execution_count": 5,
   "outputs": [],
   "source": [],
   "metadata": {
    "collapsed": false,
    "ExecuteTime": {
     "end_time": "2024-03-17T02:15:37.700200Z",
     "start_time": "2024-03-17T02:15:37.687899Z"
    }
   }
  },
  {
   "cell_type": "code",
   "execution_count": 5,
   "outputs": [],
   "source": [],
   "metadata": {
    "collapsed": false,
    "ExecuteTime": {
     "end_time": "2024-03-17T02:15:37.700359Z",
     "start_time": "2024-03-17T02:15:37.691114Z"
    }
   }
  }
 ],
 "metadata": {
  "kernelspec": {
   "display_name": "Python 3",
   "language": "python",
   "name": "python3"
  },
  "language_info": {
   "codemirror_mode": {
    "name": "ipython",
    "version": 2
   },
   "file_extension": ".py",
   "mimetype": "text/x-python",
   "name": "python",
   "nbconvert_exporter": "python",
   "pygments_lexer": "ipython2",
   "version": "2.7.6"
  }
 },
 "nbformat": 4,
 "nbformat_minor": 0
}
