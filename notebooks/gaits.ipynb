{
 "cells": [
  {
   "cell_type": "code",
   "id": "initial_id",
   "metadata": {
    "collapsed": true,
    "ExecuteTime": {
     "end_time": "2024-07-02T18:55:36.748518Z",
     "start_time": "2024-07-02T18:55:36.399883Z"
    }
   },
   "source": "from src.motion.gaits.turn import Turn2",
   "outputs": [],
   "execution_count": 1
  },
  {
   "metadata": {
    "ExecuteTime": {
     "end_time": "2024-07-02T18:55:36.915102Z",
     "start_time": "2024-07-02T18:55:36.749821Z"
    }
   },
   "cell_type": "code",
   "source": [
    "gait = Turn2(stride=20, clearance=30, step_size=1)\n",
    "gait.plotit()"
   ],
   "id": "a9ae415f6dbf536d",
   "outputs": [
    {
     "ename": "ValueError",
     "evalue": "setting an array element with a sequence. The requested array has an inhomogeneous shape after 1 dimensions. The detected shape was (3,) + inhomogeneous part.",
     "output_type": "error",
     "traceback": [
      "\u001B[0;31m---------------------------------------------------------------------------\u001B[0m",
      "\u001B[0;31mValueError\u001B[0m                                Traceback (most recent call last)",
      "Cell \u001B[0;32mIn[2], line 1\u001B[0m\n\u001B[0;32m----> 1\u001B[0m gait \u001B[38;5;241m=\u001B[39m \u001B[43mTurn2\u001B[49m\u001B[43m(\u001B[49m\u001B[43mstride\u001B[49m\u001B[38;5;241;43m=\u001B[39;49m\u001B[38;5;241;43m20\u001B[39;49m\u001B[43m,\u001B[49m\u001B[43m \u001B[49m\u001B[43mclearance\u001B[49m\u001B[38;5;241;43m=\u001B[39;49m\u001B[38;5;241;43m30\u001B[39;49m\u001B[43m,\u001B[49m\u001B[43m \u001B[49m\u001B[43mstep_size\u001B[49m\u001B[38;5;241;43m=\u001B[39;49m\u001B[38;5;241;43m1\u001B[39;49m\u001B[43m)\u001B[49m\n\u001B[1;32m      2\u001B[0m gait\u001B[38;5;241m.\u001B[39mplotit()\n",
      "File \u001B[0;32m~/Projects/vega/src/motion/gaits/gait.py:39\u001B[0m, in \u001B[0;36mGait.__init__\u001B[0;34m(self, p0, stride, clearance, step_size, turn_direction, is_reversed)\u001B[0m\n\u001B[1;32m     36\u001B[0m \u001B[38;5;28mself\u001B[39m\u001B[38;5;241m.\u001B[39mturn_direction \u001B[38;5;241m=\u001B[39m turn_direction\n\u001B[1;32m     37\u001B[0m \u001B[38;5;28mself\u001B[39m\u001B[38;5;241m.\u001B[39mis_reversed \u001B[38;5;241m=\u001B[39m is_reversed\n\u001B[0;32m---> 39\u001B[0m \u001B[38;5;28;43mself\u001B[39;49m\u001B[38;5;241;43m.\u001B[39;49m\u001B[43mbuild_steps\u001B[49m\u001B[43m(\u001B[49m\u001B[43m)\u001B[49m\n\u001B[1;32m     40\u001B[0m \u001B[38;5;28mself\u001B[39m\u001B[38;5;241m.\u001B[39mpositions \u001B[38;5;241m=\u001B[39m \u001B[38;5;28mself\u001B[39m\u001B[38;5;241m.\u001B[39mp0\n\u001B[1;32m     41\u001B[0m \u001B[38;5;28mself\u001B[39m\u001B[38;5;241m.\u001B[39mindex \u001B[38;5;241m=\u001B[39m \u001B[38;5;241m0\u001B[39m\n",
      "File \u001B[0;32m~/Projects/vega/src/motion/gaits/turn.py:68\u001B[0m, in \u001B[0;36mTurn2.build_steps\u001B[0;34m(self)\u001B[0m\n\u001B[1;32m     65\u001B[0m stepped \u001B[38;5;241m=\u001B[39m np\u001B[38;5;241m.\u001B[39mzeros(\u001B[38;5;28mself\u001B[39m\u001B[38;5;241m.\u001B[39mnum_steps) \u001B[38;5;241m+\u001B[39m \u001B[38;5;241m1\u001B[39m\n\u001B[1;32m     66\u001B[0m zero \u001B[38;5;241m=\u001B[39m np\u001B[38;5;241m.\u001B[39mzeros(\u001B[38;5;28mself\u001B[39m\u001B[38;5;241m.\u001B[39mnum_steps)\n\u001B[0;32m---> 68\u001B[0m \u001B[38;5;28mself\u001B[39m\u001B[38;5;241m.\u001B[39msteps1 \u001B[38;5;241m=\u001B[39m \u001B[43mnp\u001B[49m\u001B[38;5;241;43m.\u001B[39;49m\u001B[43mvstack\u001B[49m\u001B[43m(\u001B[49m\u001B[43m[\u001B[49m\n\u001B[1;32m     69\u001B[0m \u001B[43m    \u001B[49m\u001B[43m[\u001B[49m\u001B[43mzero\u001B[49m\u001B[43m,\u001B[49m\u001B[43m \u001B[49m\u001B[43mstep\u001B[49m\u001B[43m,\u001B[49m\u001B[43m \u001B[49m\u001B[43mup_down\u001B[49m\u001B[43m]\u001B[49m\u001B[43m,\u001B[49m\n\u001B[1;32m     70\u001B[0m \u001B[43m    \u001B[49m\u001B[43m[\u001B[49m\u001B[43mzero\u001B[49m\u001B[43m,\u001B[49m\u001B[43m \u001B[49m\u001B[43mstepped\u001B[49m\u001B[43m,\u001B[49m\u001B[43m \u001B[49m\u001B[43mzero\u001B[49m\u001B[43m]\u001B[49m\u001B[43m,\u001B[49m\n\u001B[1;32m     71\u001B[0m \u001B[43m    \u001B[49m\u001B[43m[\u001B[49m\u001B[43mzero\u001B[49m\u001B[43m,\u001B[49m\u001B[43m \u001B[49m\u001B[43mstepped\u001B[49m\u001B[43m,\u001B[49m\u001B[43m \u001B[49m\u001B[43mzero\u001B[49m\u001B[43m]\u001B[49m\u001B[43m,\u001B[49m\n\u001B[1;32m     72\u001B[0m \u001B[43m    \u001B[49m\u001B[43m[\u001B[49m\u001B[43mzero\u001B[49m\u001B[43m,\u001B[49m\u001B[43m \u001B[49m\u001B[43mstepped\u001B[49m\u001B[43m,\u001B[49m\u001B[43m \u001B[49m\u001B[43mzero\u001B[49m\u001B[43m]\u001B[49m\u001B[43m,\u001B[49m\n\u001B[1;32m     73\u001B[0m \u001B[43m    \u001B[49m\u001B[43m[\u001B[49m\u001B[43mzero\u001B[49m\u001B[43m,\u001B[49m\u001B[43m \u001B[49m\u001B[43mback\u001B[49m\u001B[43m,\u001B[49m\u001B[43m \u001B[49m\u001B[43mzero\u001B[49m\u001B[43m]\u001B[49m\n\u001B[1;32m     74\u001B[0m \u001B[43m\u001B[49m\u001B[43m]\u001B[49m\u001B[43m)\u001B[49m\n\u001B[1;32m     75\u001B[0m \u001B[38;5;28mself\u001B[39m\u001B[38;5;241m.\u001B[39msteps2 \u001B[38;5;241m=\u001B[39m np\u001B[38;5;241m.\u001B[39mvstack([\n\u001B[1;32m     76\u001B[0m     [zero, zero, zero],\n\u001B[1;32m     77\u001B[0m     [zero, step, up_down],\n\u001B[0;32m   (...)\u001B[0m\n\u001B[1;32m     80\u001B[0m     [zero, back, zero]\n\u001B[1;32m     81\u001B[0m ])\n\u001B[1;32m     82\u001B[0m \u001B[38;5;28mself\u001B[39m\u001B[38;5;241m.\u001B[39msteps3 \u001B[38;5;241m=\u001B[39m np\u001B[38;5;241m.\u001B[39mvstack([\n\u001B[1;32m     83\u001B[0m     [zero, zero, zero],\n\u001B[1;32m     84\u001B[0m     [zero, zero, zero],\n\u001B[0;32m   (...)\u001B[0m\n\u001B[1;32m     87\u001B[0m     [zero, back, zero]\n\u001B[1;32m     88\u001B[0m ])\n",
      "File \u001B[0;32m~/Projects/vega/venv/lib/python3.9/site-packages/numpy/core/shape_base.py:286\u001B[0m, in \u001B[0;36mvstack\u001B[0;34m(tup, dtype, casting)\u001B[0m\n\u001B[1;32m    219\u001B[0m \u001B[38;5;129m@array_function_dispatch\u001B[39m(_vhstack_dispatcher)\n\u001B[1;32m    220\u001B[0m \u001B[38;5;28;01mdef\u001B[39;00m \u001B[38;5;21mvstack\u001B[39m(tup, \u001B[38;5;241m*\u001B[39m, dtype\u001B[38;5;241m=\u001B[39m\u001B[38;5;28;01mNone\u001B[39;00m, casting\u001B[38;5;241m=\u001B[39m\u001B[38;5;124m\"\u001B[39m\u001B[38;5;124msame_kind\u001B[39m\u001B[38;5;124m\"\u001B[39m):\n\u001B[1;32m    221\u001B[0m \u001B[38;5;250m    \u001B[39m\u001B[38;5;124;03m\"\"\"\u001B[39;00m\n\u001B[1;32m    222\u001B[0m \u001B[38;5;124;03m    Stack arrays in sequence vertically (row wise).\u001B[39;00m\n\u001B[1;32m    223\u001B[0m \n\u001B[0;32m   (...)\u001B[0m\n\u001B[1;32m    284\u001B[0m \n\u001B[1;32m    285\u001B[0m \u001B[38;5;124;03m    \"\"\"\u001B[39;00m\n\u001B[0;32m--> 286\u001B[0m     arrs \u001B[38;5;241m=\u001B[39m \u001B[43matleast_2d\u001B[49m\u001B[43m(\u001B[49m\u001B[38;5;241;43m*\u001B[39;49m\u001B[43mtup\u001B[49m\u001B[43m)\u001B[49m\n\u001B[1;32m    287\u001B[0m     \u001B[38;5;28;01mif\u001B[39;00m \u001B[38;5;129;01mnot\u001B[39;00m \u001B[38;5;28misinstance\u001B[39m(arrs, \u001B[38;5;28mlist\u001B[39m):\n\u001B[1;32m    288\u001B[0m         arrs \u001B[38;5;241m=\u001B[39m [arrs]\n",
      "File \u001B[0;32m~/Projects/vega/venv/lib/python3.9/site-packages/numpy/core/shape_base.py:121\u001B[0m, in \u001B[0;36matleast_2d\u001B[0;34m(*arys)\u001B[0m\n\u001B[1;32m    119\u001B[0m res \u001B[38;5;241m=\u001B[39m []\n\u001B[1;32m    120\u001B[0m \u001B[38;5;28;01mfor\u001B[39;00m ary \u001B[38;5;129;01min\u001B[39;00m arys:\n\u001B[0;32m--> 121\u001B[0m     ary \u001B[38;5;241m=\u001B[39m \u001B[43masanyarray\u001B[49m\u001B[43m(\u001B[49m\u001B[43mary\u001B[49m\u001B[43m)\u001B[49m\n\u001B[1;32m    122\u001B[0m     \u001B[38;5;28;01mif\u001B[39;00m ary\u001B[38;5;241m.\u001B[39mndim \u001B[38;5;241m==\u001B[39m \u001B[38;5;241m0\u001B[39m:\n\u001B[1;32m    123\u001B[0m         result \u001B[38;5;241m=\u001B[39m ary\u001B[38;5;241m.\u001B[39mreshape(\u001B[38;5;241m1\u001B[39m, \u001B[38;5;241m1\u001B[39m)\n",
      "\u001B[0;31mValueError\u001B[0m: setting an array element with a sequence. The requested array has an inhomogeneous shape after 1 dimensions. The detected shape was (3,) + inhomogeneous part."
     ]
    }
   ],
   "execution_count": 2
  },
  {
   "metadata": {
    "ExecuteTime": {
     "end_time": "2024-07-02T18:55:36.915915Z",
     "start_time": "2024-07-02T18:55:36.915855Z"
    }
   },
   "cell_type": "code",
   "source": "",
   "id": "1511ad6a537a7375",
   "outputs": [],
   "execution_count": null
  }
 ],
 "metadata": {
  "kernelspec": {
   "display_name": "Python 3",
   "language": "python",
   "name": "python3"
  },
  "language_info": {
   "codemirror_mode": {
    "name": "ipython",
    "version": 2
   },
   "file_extension": ".py",
   "mimetype": "text/x-python",
   "name": "python",
   "nbconvert_exporter": "python",
   "pygments_lexer": "ipython2",
   "version": "2.7.6"
  }
 },
 "nbformat": 4,
 "nbformat_minor": 5
}
