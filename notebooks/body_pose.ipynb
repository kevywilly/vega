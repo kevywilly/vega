{
 "cells": [
  {
   "cell_type": "code",
   "execution_count": 4,
   "metadata": {
    "collapsed": true,
    "ExecuteTime": {
     "end_time": "2024-03-26T06:21:02.886924Z",
     "start_time": "2024-03-26T06:21:02.876821Z"
    }
   },
   "outputs": [],
   "source": [
    "import numpy as np\n",
    "\n",
    "import config\n",
    "from config import Positions, Dims\n",
    "from src.interfaces.pose import Pose, Position\n",
    "import matplotlib.pyplot as plt"
   ]
  },
  {
   "cell_type": "code",
   "execution_count": 5,
   "outputs": [
    {
     "name": "stdout",
     "output_type": "stream",
     "text": [
      "\n",
      "world\n",
      " [[ 146.    76.   129.6]\n",
      " [ 146.   -76.   129.6]\n",
      " [-146.   -76.   129.6]\n",
      " [-146.    76.   129.6]]\n",
      "\n",
      "rotated world\n",
      " [[ 130.58467044  100.19802317  129.6       ]\n",
      " [ 156.97919344  -49.49275529  129.6       ]\n",
      " [-130.58467044 -100.19802317  129.6       ]\n",
      " [-156.97919344   49.49275529  129.6       ]]\n",
      "\n",
      "offsets\n",
      " [[-15.41532956  24.19802317   0.        ]\n",
      " [ 10.97919344  26.50724471   0.        ]\n",
      " [ 15.41532956 -24.19802317   0.        ]\n",
      " [-10.97919344 -26.50724471   0.        ]]\n"
     ]
    }
   ],
   "source": [
    "position = Position(Positions.ready2)\n",
    "\n",
    "#print(\"\\nlocal\\n\", position.local)\n",
    "print(\"\\nworld\\n\", position.world)\n",
    "\n",
    "rotated = position.rotated(10)\n",
    "#print(\"\\nrotated local\\n\", rotated.local)\n",
    "print(\"\\nrotated world\\n\", rotated.world)\n",
    "\n",
    "print(\"\\noffsets\\n\", rotated.world-position.world)\n",
    "\n"
   ],
   "metadata": {
    "collapsed": false,
    "ExecuteTime": {
     "end_time": "2024-03-26T06:21:02.899261Z",
     "start_time": "2024-03-26T06:21:02.885868Z"
    }
   }
  },
  {
   "cell_type": "code",
   "execution_count": 6,
   "outputs": [
    {
     "data": {
      "text/plain": "array([[  20. ,    5. ,  129.6],\n       [ -20. ,   -5. , -129.6],\n       [ -20. ,   -5. , -129.6],\n       [  20. ,    5. ,  129.6]])"
     },
     "execution_count": 6,
     "metadata": {},
     "output_type": "execute_result"
    }
   ],
   "source": [
    "position.local * config.FLIP"
   ],
   "metadata": {
    "collapsed": false,
    "ExecuteTime": {
     "end_time": "2024-03-26T06:21:02.899693Z",
     "start_time": "2024-03-26T06:21:02.892031Z"
    }
   }
  },
  {
   "cell_type": "code",
   "execution_count": 6,
   "outputs": [],
   "source": [],
   "metadata": {
    "collapsed": false,
    "ExecuteTime": {
     "end_time": "2024-03-26T06:21:02.899835Z",
     "start_time": "2024-03-26T06:21:02.896315Z"
    }
   }
  }
 ],
 "metadata": {
  "kernelspec": {
   "display_name": "Python 3",
   "language": "python",
   "name": "python3"
  },
  "language_info": {
   "codemirror_mode": {
    "name": "ipython",
    "version": 2
   },
   "file_extension": ".py",
   "mimetype": "text/x-python",
   "name": "python",
   "nbconvert_exporter": "python",
   "pygments_lexer": "ipython2",
   "version": "2.7.6"
  }
 },
 "nbformat": 4,
 "nbformat_minor": 0
}
